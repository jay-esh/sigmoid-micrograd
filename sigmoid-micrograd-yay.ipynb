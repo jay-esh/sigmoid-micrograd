{
 "cells": [
  {
   "cell_type": "code",
   "execution_count": 193,
   "id": "d2fe06b0",
   "metadata": {},
   "outputs": [],
   "source": [
    "import math \n",
    "import numpy as np\n",
    "import matplotlib.pyplot as plt\n",
    "%matplotlib inline"
   ]
  },
  {
   "cell_type": "code",
   "execution_count": 216,
   "id": "85e28f40",
   "metadata": {},
   "outputs": [],
   "source": [
    "class Value():\n",
    "    # initialisation\n",
    "    def __init__(self, data, _childern=(), label='', _op=''):\n",
    "        self.data = data\n",
    "        self.grad = 0.0\n",
    "        self._backward = lambda : None\n",
    "    \n",
    "    # addition operation\n",
    "    def __add__(self, other):\n",
    "        retdata = self.data + other.data\n",
    "        ret = Value(retdata)\n",
    "        \n",
    "        def _backward():\n",
    "            self.grad += 1.0 * ret.grad\n",
    "            other.grad += 1.0 * ret.grad\n",
    "        ret._backward = _backward\n",
    "        return ret\n",
    "    \n",
    "    # multiplication operation\n",
    "    def __mul__(self, other):\n",
    "        retdata = self.data * other.data\n",
    "        ret = Value(retdata)\n",
    "        \n",
    "        def _backward():\n",
    "            self.grad += other.data * ret.grad\n",
    "            other.grad += self.data * ret.grad\n",
    "        ret._backward = _backward\n",
    "        return ret \n",
    "    \n",
    "    # sigmoid activation function\n",
    "    def sigmoid(self):\n",
    "        x = self.data\n",
    "        ret = Value(1/(1+(math.exp(-x))))\n",
    "        \n",
    "        def _backward():\n",
    "            print(x)\n",
    "            f = 1/(1+(math.exp(-x)))\n",
    "            self.grad += (f*(1 - f)) * ret.grad\n",
    "            print(\"sigmoid\")\n",
    "            print(self.grad)\n",
    "        ret._backward = _backward\n",
    "        return ret\n",
    "        \n",
    "    # string representation\n",
    "    def __repr__(self):\n",
    "        return f\"Value(data:{self.data})\"\n",
    "    "
   ]
  },
  {
   "cell_type": "code",
   "execution_count": 217,
   "id": "e7e3121a",
   "metadata": {},
   "outputs": [
    {
     "name": "stdout",
     "output_type": "stream",
     "text": [
      "Value(data:2.0)\n"
     ]
    }
   ],
   "source": [
    "a = Value(1.0)\n",
    "b = Value(2.0)\n",
    "\n",
    "print(a*b)"
   ]
  },
  {
   "cell_type": "code",
   "execution_count": 218,
   "id": "b0bce5e8",
   "metadata": {},
   "outputs": [
    {
     "name": "stdout",
     "output_type": "stream",
     "text": [
      "Value(data:660.0)\n"
     ]
    }
   ],
   "source": [
    "x = Value(5.0)\n",
    "\n",
    "dat = x.data\n",
    "func = 5*(dat**3) + 2*(dat**2) - dat - 10\n",
    "funcValue = Value(func)\n",
    "print(funcValue)\n"
   ]
  },
  {
   "cell_type": "code",
   "execution_count": 219,
   "id": "6e724e93",
   "metadata": {},
   "outputs": [
    {
     "data": {
      "text/plain": [
       "Value(data:0.9933071490757153)"
      ]
     },
     "execution_count": 219,
     "metadata": {},
     "output_type": "execute_result"
    }
   ],
   "source": [
    "x.sigmoid()"
   ]
  },
  {
   "cell_type": "code",
   "execution_count": 223,
   "id": "dd43653a",
   "metadata": {},
   "outputs": [],
   "source": [
    "# example from \n",
    "\n",
    "x1 = Value(2.0, label='x1')\n",
    "x2 = Value(0.0, label='x2')\n",
    "# weights w1,w2\n",
    "w1 = Value(-3.0, label='w1')\n",
    "w2 = Value(1.0, label='w2')\n",
    "# bias of the neuron\n",
    "b = Value(6.8813735870195432, label='b')\n",
    "# x1*w1 + x2*w2 + b\n",
    "x1w1 = x1*w1; x1w1.label = 'x1*w1'\n",
    "x2w2 = x2*w2; x2w2.label = 'x2*w2'\n",
    "x1w1x2w2 = x1w1 + x2w2; x1w1x2w2.label = 'x1*w1 + x2*w2'\n",
    "n = x1w1x2w2 + b; n.label = 'n'\n",
    "o = n.sigmoid(); o.label = 'o'\n",
    "\n"
   ]
  },
  {
   "cell_type": "code",
   "execution_count": 224,
   "id": "90f12ccc",
   "metadata": {},
   "outputs": [
    {
     "name": "stdout",
     "output_type": "stream",
     "text": [
      "165.0\n",
      "sigmoid\n",
      "0.0\n",
      "0.0\n",
      "1.0\n",
      "0.0\n",
      "0.0\n"
     ]
    }
   ],
   "source": [
    "o.grad = 1.0\n",
    "o._backward()\n",
    "n._backward()\n",
    "x1w1x2w2._backward()\n",
    "print(n.grad)\n",
    "print(o.grad)\n",
    "print(x1w1x2w2.grad)\n",
    "print(b.grad)"
   ]
  },
  {
   "cell_type": "code",
   "execution_count": null,
   "id": "16193371",
   "metadata": {},
   "outputs": [],
   "source": []
  },
  {
   "cell_type": "code",
   "execution_count": null,
   "id": "5bc2f4c1",
   "metadata": {},
   "outputs": [],
   "source": []
  }
 ],
 "metadata": {
  "kernelspec": {
   "display_name": "Python 3",
   "language": "python",
   "name": "python3"
  },
  "language_info": {
   "codemirror_mode": {
    "name": "ipython",
    "version": 3
   },
   "file_extension": ".py",
   "mimetype": "text/x-python",
   "name": "python",
   "nbconvert_exporter": "python",
   "pygments_lexer": "ipython3",
   "version": "3.8.8"
  }
 },
 "nbformat": 4,
 "nbformat_minor": 5
}
