{
 "cells": [
  {
   "cell_type": "code",
   "execution_count": 10,
   "id": "242faae3",
   "metadata": {},
   "outputs": [],
   "source": [
    "import math\n",
    "import random\n",
    "import numpy as np\n",
    "import matplotlib.pyplot as plt\n",
    "%matplotlib inline"
   ]
  },
  {
   "cell_type": "code",
   "execution_count": 82,
   "id": "c1d3e13a",
   "metadata": {},
   "outputs": [],
   "source": [
    "class Value():\n",
    "    # initialisation\n",
    "    def __init__(self, data, _childern=(), label='', _op=''):\n",
    "        self.data = data\n",
    "        self.grad = 0.0\n",
    "        self._backward = lambda : None\n",
    "    \n",
    "    # addition operation\n",
    "    def __add__(self, other):\n",
    "        if (not isinstance(other, Value)):\n",
    "            other = Value(other)\n",
    "        retdata = self.data + other.data\n",
    "        ret = Value(retdata)\n",
    "        \n",
    "        def _backward():\n",
    "            self.grad += 1.0 * ret.grad\n",
    "            other.grad += 1.0 * ret.grad\n",
    "        ret._backward = _backward\n",
    "        return ret\n",
    "    \n",
    "    # multiplication operation\n",
    "    def __mul__(self, other):\n",
    "        if (not isinstance(other, Value)):\n",
    "            other = Value(other)\n",
    "        retdata = self.data * other.data\n",
    "        ret = Value(retdata)\n",
    "        \n",
    "        def _backward():\n",
    "            self.grad += other.data * ret.grad\n",
    "            other.grad += self.data * ret.grad\n",
    "        ret._backward = _backward\n",
    "        return ret \n",
    "    \n",
    "    # sigmoid activation function\n",
    "    def sigmoid(self):\n",
    "        x = self.data\n",
    "        ret = Value(1/(1+(math.exp(-x))))\n",
    "        \n",
    "        def _backward():\n",
    "            f = 1/(1+(math.exp(-x)))\n",
    "            self.grad += (f*(1 - f)) * ret.grad\n",
    "        ret._backward = _backward\n",
    "        return ret\n",
    "    \n",
    "    def __rmul__(self, other): # other * self\n",
    "        return self * other\n",
    "\n",
    "    def __radd__(self, other): # other + self\n",
    "        return self + other\n",
    "        \n",
    "    # string representation\n",
    "    def __repr__(self):\n",
    "        return f\"Value(data:{self.data})\"\n",
    "    "
   ]
  },
  {
   "cell_type": "code",
   "execution_count": 92,
   "id": "4300a9ed",
   "metadata": {},
   "outputs": [
    {
     "name": "stdout",
     "output_type": "stream",
     "text": [
      "Value(data:2.0)\n"
     ]
    }
   ],
   "source": [
    "a = Value(1.0)\n",
    "b = Value(2.0)\n",
    "\n",
    "print(a*b)"
   ]
  },
  {
   "cell_type": "code",
   "execution_count": 93,
   "id": "e1797929",
   "metadata": {},
   "outputs": [
    {
     "data": {
      "text/plain": [
       "[<matplotlib.lines.Line2D at 0x7fb218768070>]"
      ]
     },
     "execution_count": 93,
     "metadata": {},
     "output_type": "execute_result"
    },
    {
     "data": {
      "image/png": "[encoded data removed]",
      "text/plain": [
       "<Figure size 432x288 with 1 Axes>"
      ]
     },
     "metadata": {
      "needs_background": "light"
     },
     "output_type": "display_data"
    }
   ],
   "source": [
    "xaxis = np.arange(-10,11,1)\n",
    "yaxis = [1/(1+(math.exp(-i))) for i in xaxis ]\n",
    "plt.plot(xaxis, yaxis)"
   ]
  },
  {
   "cell_type": "code",
   "execution_count": 94,
   "id": "56f76fba",
   "metadata": {},
   "outputs": [
    {
     "name": "stdout",
     "output_type": "stream",
     "text": [
      "Value(data:660.0)\n"
     ]
    }
   ],
   "source": [
    "x = Value(5.0)\n",
    "\n",
    "dat = x.data\n",
    "func = 5*(dat**3) + 2*(dat**2) - dat - 10\n",
    "funcValue = Value(func)\n",
    "print(funcValue)\n"
   ]
  },
  {
   "cell_type": "code",
   "execution_count": 95,
   "id": "9d175d23",
   "metadata": {},
   "outputs": [
    {
     "data": {
      "text/plain": [
       "Value(data:0.9933071490757153)"
      ]
     },
     "execution_count": 95,
     "metadata": {},
     "output_type": "execute_result"
    }
   ],
   "source": [
    "x.sigmoid()"
   ]
  },
  {
   "cell_type": "code",
   "execution_count": 96,
   "id": "e98eb4ec",
   "metadata": {},
   "outputs": [],
   "source": [
    "# example from Andrej Karpathy's jupyter notebook\n",
    "\n",
    "x1 = Value(2.0, label='x1')\n",
    "x2 = Value(0.0, label='x2')\n",
    "# weights w1,w2\n",
    "w1 = Value(-3.0, label='w1')\n",
    "w2 = Value(1.0, label='w2')\n",
    "# bias of the neuron\n",
    "b = Value(6.8813735870195432, label='b')\n",
    "# x1*w1 + x2*w2 + b\n",
    "x1w1 = x1*w1; x1w1.label = 'x1*w1'\n",
    "x2w2 = x2*w2; x2w2.label = 'x2*w2'\n",
    "x1w1x2w2 = x1w1 + x2w2; x1w1x2w2.label = 'x1*w1 + x2*w2'\n",
    "n = x1w1x2w2 + b; n.label = 'n'\n",
    "o = n.sigmoid(); o.label = 'o'\n",
    "\n"
   ]
  },
  {
   "cell_type": "code",
   "execution_count": 97,
   "id": "5fac864f",
   "metadata": {},
   "outputs": [
    {
     "name": "stdout",
     "output_type": "stream",
     "text": [
      "0.20710678118654752\n",
      "1.0\n",
      "0.20710678118654752\n",
      "0.20710678118654752\n"
     ]
    }
   ],
   "source": [
    "o.grad = 1.0\n",
    "o._backward()\n",
    "n._backward()\n",
    "x1w1x2w2._backward()\n",
    "print(n.grad)\n",
    "print(o.grad)\n",
    "print(x1w1x2w2.grad)\n",
    "print(b.grad)"
   ]
  },
  {
   "cell_type": "code",
   "execution_count": 98,
   "id": "1b4236b8",
   "metadata": {},
   "outputs": [],
   "source": [
    "# neuralnet implementation\n",
    "\n",
    "class Neuron():\n",
    "    def __init__(self, numberOfInputs):\n",
    "        self.weights = [Value(random.randint(0,9)) for _ in range(numberOfInputs)]\n",
    "        self.bias = Value(random.randint(0,9))\n",
    "    \n",
    "    def __call__(self, inputs):\n",
    "        # w.inputs + bias\n",
    "        ret = sum((i*j for i, j in zip(self.weights, inputs)), self.bias.data)\n",
    "        return ret.sigmoid()\n",
    "    \n",
    "class Layers():\n",
    "    def __init__(self, numberOfInput, numberOfNeurons):\n",
    "        self.layer = [Neuron(numberOfInput) for i in range(numberOfNeurons)]\n",
    "        self.output = numberOfNeurons\n",
    "        \n",
    "    def __call__(self, inputLayer):\n",
    "        ret = [self.layer[i](inputLayer) for i in range(self.output)]\n",
    "        return ret\n",
    "\n",
    "class MultiLevelPerceptron():\n",
    "    def __init__(self, numberOfInputs, numberOfNeuronsInLayers):\n",
    "        self.layerList = [numberOfInputs] + numberOfNeuronsInLayers\n",
    "        self.layersList = [Layers(self.layerList[i], self.layerList[i+1]) for i in (range(len(self.layerList)- 1) )]\n",
    "        \n",
    "    # forward prop\n",
    "    def __call__(self, inputLayer):\n",
    "        inputs = inputLayer\n",
    "        for i in self.layersList:\n",
    "            print(i.output)\n",
    "            inputs = i(inputs)\n",
    "        return inputs\n",
    "        \n",
    "        \n",
    "            "
   ]
  },
  {
   "cell_type": "code",
   "execution_count": 99,
   "id": "d5b14748",
   "metadata": {},
   "outputs": [
    {
     "name": "stdout",
     "output_type": "stream",
     "text": [
      "4\n",
      "4\n",
      "1\n"
     ]
    },
    {
     "data": {
      "text/plain": [
       "[Value(data:0.9999999999981204)]"
      ]
     },
     "execution_count": 99,
     "metadata": {},
     "output_type": "execute_result"
    }
   ],
   "source": [
    "# x = Neuron(3)\n",
    "# x([1,2,3])\n",
    "l = MultiLevelPerceptron(3, [4,4,1])\n",
    "l([1,2,3])"
   ]
  },
  {
   "cell_type": "code",
   "execution_count": null,
   "id": "cfdaa05a",
   "metadata": {},
   "outputs": [],
   "source": []
  }
 ],
 "metadata": {
  "kernelspec": {
   "display_name": "Python 3",
   "language": "python",
   "name": "python3"
  },
  "language_info": {
   "codemirror_mode": {
    "name": "ipython",
    "version": 3
   },
   "file_extension": ".py",
   "mimetype": "text/x-python",
   "name": "python",
   "nbconvert_exporter": "python",
   "pygments_lexer": "ipython3",
   "version": "3.8.8"
  }
 },
 "nbformat": 4,
 "nbformat_minor": 5
}
